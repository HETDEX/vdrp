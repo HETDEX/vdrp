{
 "cells": [
  {
   "cell_type": "code",
   "execution_count": 42,
   "metadata": {
    "collapsed": false
   },
   "outputs": [],
   "source": [
    "from numpy import loadtxt\n",
    "\n",
    "from astropy.stats import biweight_location as biwgt_loc"
   ]
  },
  {
   "cell_type": "code",
   "execution_count": 43,
   "metadata": {
    "collapsed": false
   },
   "outputs": [],
   "source": [
    "def getNorm(all_raw, mag_max ):\n",
    "    def mag2flux(m):\n",
    "        return 10**((25-m)/2.5)\n",
    "\n",
    "    ii  = all_raw[:,3] < mag_max\n",
    "    ii *= all_raw[:,5] < mag_max\n",
    "    ii *= all_raw[:,7] < mag_max\n",
    "\n",
    "    f1 = mag2flux(all_raw[ii,3])\n",
    "    f2 = mag2flux(all_raw[ii,5])\n",
    "    f3 = mag2flux(all_raw[ii,7])\n",
    "\n",
    "    favg = (f1+f2+f3)/3.\n",
    "    return biwgt_loc(f1/favg),biwgt_loc(f2/favg),biwgt_loc(f3/favg)\n",
    "\n",
    "def computNorm(infile='all.raw', outfile='norm.dat', mag_max = 19):\n",
    "    all_raw = loadtxt(infile, skiprows=3)\n",
    "    n1,n2,n3 = getNorm(all_raw, mag_max )\n",
    "    with open(outfile, 'w') as f:\n",
    "        s = \"{:10.8f} {:10.8f} {:10.8f}\".format(n1,n2,n3)\n",
    "        f.write(s)"
   ]
  },
  {
   "cell_type": "code",
   "execution_count": 44,
   "metadata": {
    "collapsed": false
   },
   "outputs": [
    {
     "name": "stdout",
     "output_type": "stream",
     "text": [
      "0.96172611 1.02433253 0.99374698"
     ]
    }
   ],
   "source": [
    "infile = \"../../../../20180611v017/all.raw\"\n",
    "outfile='norm.dat'\n",
    "mag_max = 19.\n",
    "\n",
    "computNorm(infile, outfile, mag_max = mag_max)\n",
    "! cat norm.dat"
   ]
  },
  {
   "cell_type": "code",
   "execution_count": null,
   "metadata": {
    "collapsed": true
   },
   "outputs": [],
   "source": []
  }
 ],
 "metadata": {
  "kernelspec": {
   "display_name": "Python 2",
   "language": "python",
   "name": "python2"
  },
  "language_info": {
   "codemirror_mode": {
    "name": "ipython",
    "version": 2
   },
   "file_extension": ".py",
   "mimetype": "text/x-python",
   "name": "python",
   "nbconvert_exporter": "python",
   "pygments_lexer": "ipython2",
   "version": "2.7.13"
  }
 },
 "nbformat": 4,
 "nbformat_minor": 2
}
